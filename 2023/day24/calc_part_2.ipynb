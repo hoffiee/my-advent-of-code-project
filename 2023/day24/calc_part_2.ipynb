{
 "cells": [
  {
   "cell_type": "code",
   "execution_count": 1,
   "id": "7845a382",
   "metadata": {},
   "outputs": [],
   "source": [
    "import sympy as sp\n",
    "sp.init_printing()"
   ]
  },
  {
   "cell_type": "markdown",
   "id": "ab32f364",
   "metadata": {},
   "source": [
    "# Method\n",
    "Let's figure what we need to do. Tried to continue with a similar approach as in part 1, but got a bit lazy and decided to do it with Sympy instead."
   ]
  },
  {
   "cell_type": "code",
   "execution_count": 2,
   "id": "0ddf4734",
   "metadata": {},
   "outputs": [],
   "source": [
    "# Define a line in the form of P + Vt, P,V is a xyz vector\n",
    "t = sp.Symbol(\"t\")\n",
    "Ax, Avx = sp.symbols(\"A_x,A_{vx}\")\n",
    "Ay, Avy = sp.symbols(\"A_y,A_{vy}\")\n",
    "Az, Avz = sp.symbols(\"A_z,A_{vz}\")\n",
    "Bx, Bvx = sp.symbols(\"B_x,B_{vx}\")\n",
    "By, Bvy = sp.symbols(\"B_y,B_{vy}\")\n",
    "Bz, Bvz = sp.symbols(\"B_z,B_{vz}\")\n",
    "Cx, Cvx = sp.symbols(\"C_x,C_{vx}\")\n",
    "Cy, Cvy = sp.symbols(\"C_y,C_{vy}\")\n",
    "Cz, Cvz = sp.symbols(\"C_z,C_{vz}\")\n",
    "\n",
    "A = sp.Matrix([Ax, Ay, Az])\n",
    "Av = sp.Matrix([Avx, Avy, Avz])\n",
    "B = sp.Matrix([Bx, By, Bz])\n",
    "Bv = sp.Matrix([Bvx, Bvy, Bvz])\n",
    "C = sp.Matrix([Cx, Cy, Cz])\n",
    "Cv = sp.Matrix([Cvx, Cvy, Cvz])"
   ]
  },
  {
   "cell_type": "code",
   "execution_count": 3,
   "id": "fa268d77",
   "metadata": {},
   "outputs": [],
   "source": [
    "# the line we're looking for.\n",
    "Px, Pvx = sp.symbols(\"P_x,P_{vx}\")\n",
    "Py, Pvy = sp.symbols(\"P_y,P_{vy}\")\n",
    "Pz, Pvz = sp.symbols(\"P_z,P_{vz}\")\n",
    "\n",
    "P = sp.Matrix([Px, Py, Pz])\n",
    "Pv = sp.Matrix([Pvx, Pvy, Pvz])\n",
    "\n",
    "x = sp.Matrix([P, Pv])"
   ]
  },
  {
   "cell_type": "code",
   "execution_count": 4,
   "id": "2e6c0784",
   "metadata": {},
   "outputs": [
    {
     "data": {
      "image/png": "[encoded data removed]",
      "text/latex": [
       "$\\displaystyle \\left[\\begin{matrix}- A_{x} - A_{vx} t + P_{x} + P_{vx} t\\\\- A_{y} - A_{vy} t + P_{y} + P_{vy} t\\\\- A_{z} - A_{vz} t + P_{z} + P_{vz} t\\end{matrix}\\right]$"
      ],
      "text/plain": [
       "⎡ -Aₓ - A_{vx}⋅t + Pₓ + P_{vx}⋅t ⎤\n",
       "⎢                                ⎥\n",
       "⎢-A_y - A_{vy}⋅t + P_y + P_{vy}⋅t⎥\n",
       "⎢                                ⎥\n",
       "⎣-A_z - A_{vz}⋅t + P_z + P_{vz}⋅t⎦"
      ]
     },
     "execution_count": 4,
     "metadata": {},
     "output_type": "execute_result"
    }
   ],
   "source": [
    "P + Pv*t - A - Av*t"
   ]
  },
  {
   "cell_type": "markdown",
   "id": "a37fb91a",
   "metadata": {},
   "source": [
    "I was stuck for a while at this step since I had the approach of doing it as vectors, after a tip from someone at Reddit I continued with this step."
   ]
  },
  {
   "cell_type": "code",
   "execution_count": 5,
   "id": "701ea3b3",
   "metadata": {},
   "outputs": [
    {
     "name": "stdout",
     "output_type": "stream",
     "text": [
      "-Aₓ⋅A_{vy} + Aₓ⋅P_{vy} + A_y⋅A_{vx} - A_y⋅P_{vx} - A_{vx}⋅P_y + A_{vy}⋅Pₓ - Pₓ⋅P_{vy} + P_y⋅P_{vx}\n",
      "-Aₓ⋅A_{vz} + Aₓ⋅P_{vz} + A_z⋅A_{vx} - A_z⋅P_{vx} - A_{vx}⋅P_z + A_{vz}⋅Pₓ - Pₓ⋅P_{vz} + P_z⋅P_{vx}\n"
     ]
    }
   ],
   "source": [
    "# From above we can reformulate t like this\n",
    "AP_tx = (Px - Ax)/(Avx - Pvx)\n",
    "AP_ty = (Py - Ay)/(Avy - Pvy)\n",
    "AP_tz = (Pz - Az)/(Avz - Pvz)\n",
    "\n",
    "AP_nx, AP_dx = sp.fraction(AP_tx)\n",
    "AP_ny, AP_dy = sp.fraction(AP_ty)\n",
    "AP_nz, AP_dz = sp.fraction(AP_tz)\n",
    "\n",
    "# set tx == ty, ty == tz and move terms around, trying out the walrus operator as well.\n",
    "sp.pprint(AP_txy := sp.expand(AP_nx*AP_dy - AP_ny*AP_dx))\n",
    "sp.pprint(AP_txz := sp.expand(AP_nx*AP_dz - AP_nz*AP_dx))"
   ]
  },
  {
   "cell_type": "markdown",
   "id": "266619a4",
   "metadata": {},
   "source": [
    "We have some nonlinear terms with $P$ and $P_v$, let's see if we get them when we check against $B$ as well."
   ]
  },
  {
   "cell_type": "code",
   "execution_count": 6,
   "id": "60ee8b25",
   "metadata": {},
   "outputs": [
    {
     "name": "stdout",
     "output_type": "stream",
     "text": [
      "-Bₓ⋅B_{vy} + Bₓ⋅P_{vy} + B_y⋅B_{vx} - B_y⋅P_{vx} - B_{vx}⋅P_y + B_{vy}⋅Pₓ - Pₓ⋅P_{vy} + P_y⋅P_{vx}\n",
      "-Bₓ⋅B_{vz} + Bₓ⋅P_{vz} + B_z⋅B_{vx} - B_z⋅P_{vx} - B_{vx}⋅P_z + B_{vz}⋅Pₓ - Pₓ⋅P_{vz} + P_z⋅P_{vx}\n"
     ]
    }
   ],
   "source": [
    "BP_tx = (Px - Bx)/(Bvx - Pvx)\n",
    "BP_ty = (Py - By)/(Bvy - Pvy)\n",
    "BP_tz = (Pz - Bz)/(Bvz - Pvz)\n",
    "\n",
    "BP_nx, BP_dx = sp.fraction(BP_tx)\n",
    "BP_ny, BP_dy = sp.fraction(BP_ty)\n",
    "BP_nz, BP_dz = sp.fraction(BP_tz)\n",
    "\n",
    "# set tx == ty, ty == tz and move terms around, trying out the walrus operator as well.\n",
    "sp.pprint(BP_txy := sp.expand(BP_nx*BP_dy - BP_ny*BP_dx))\n",
    "sp.pprint(BP_txz := sp.expand(BP_nx*BP_dz - BP_nz*BP_dx))"
   ]
  },
  {
   "cell_type": "markdown",
   "id": "c09bc401",
   "metadata": {},
   "source": [
    "And we see the same terms.\n",
    "\n",
    "set $BP_{txy} = AP_{txy}$\n",
    "\n",
    "and they should cancel out."
   ]
  },
  {
   "cell_type": "code",
   "execution_count": 7,
   "id": "4cbfbfde",
   "metadata": {},
   "outputs": [
    {
     "name": "stdout",
     "output_type": "stream",
     "text": [
      "-Aₓ⋅A_{vy} + A_y⋅A_{vx} + Bₓ⋅B_{vy} - B_y⋅B_{vx} + Pₓ⋅(A_{vy} - B_{vy}) + P_y⋅(-A_{vx} + B_{vx}) + P_{vx}⋅(-A_y + B_y) + P_{vy}⋅(Aₓ - Bₓ)\n"
     ]
    }
   ],
   "source": [
    "sp.pprint(sp.collect(eq := AP_txy - BP_txy, x))"
   ]
  },
  {
   "cell_type": "markdown",
   "id": "625bfdab",
   "metadata": {},
   "source": [
    "And we see that we constants terms like $A_xA_{vy}$ and some coefficients with the vector $x$.\n",
    "\n",
    "Consider this as $A_1x - b_1$ and set $x=0$ to get the terms for $b_1$."
   ]
  },
  {
   "cell_type": "code",
   "execution_count": 8,
   "id": "dcb5bba7",
   "metadata": {},
   "outputs": [
    {
     "ename": "NameError",
     "evalue": "name 'tmp' is not defined",
     "output_type": "error",
     "traceback": [
      "\u001b[0;31m---------------------------------------------------------------------------\u001b[0m",
      "\u001b[0;31mNameError\u001b[0m                                 Traceback (most recent call last)",
      "Input \u001b[0;32mIn [8]\u001b[0m, in \u001b[0;36m<cell line: 2>\u001b[0;34m()\u001b[0m\n\u001b[1;32m      1\u001b[0m b1 \u001b[38;5;241m=\u001b[39m \u001b[38;5;241m-\u001b[39meq\u001b[38;5;241m.\u001b[39msubs(\u001b[38;5;28mdict\u001b[39m(\u001b[38;5;28mzip\u001b[39m(x, [\u001b[38;5;241m0\u001b[39m \u001b[38;5;28;01mfor\u001b[39;00m _ \u001b[38;5;129;01min\u001b[39;00m \u001b[38;5;28mrange\u001b[39m(x\u001b[38;5;241m.\u001b[39mshape[\u001b[38;5;241m0\u001b[39m])])))\n\u001b[0;32m----> 2\u001b[0m sp\u001b[38;5;241m.\u001b[39mcollect(eq1 \u001b[38;5;241m:=\u001b[39m \u001b[43mtmp\u001b[49m \u001b[38;5;241m+\u001b[39m b1, x)\n",
      "\u001b[0;31mNameError\u001b[0m: name 'tmp' is not defined"
     ]
    }
   ],
   "source": [
    "b1 = -eq.subs(dict(zip(x, [0 for _ in range(x.shape[0])])))\n",
    "sp.collect(eq1 := tmp + b1, x)"
   ]
  },
  {
   "cell_type": "markdown",
   "id": "543ad9c1",
   "metadata": {},
   "source": [
    "From this we can figure out the coefficients for $A_1$."
   ]
  },
  {
   "cell_type": "code",
   "execution_count": null,
   "id": "e130f46a",
   "metadata": {},
   "outputs": [],
   "source": [
    "A1_method = sp.Matrix([Avy-Bvy,-Avx+Bvx,0,-Ay+By,Ax-Bx,0])\n",
    "\n",
    "# This should be equal if A1_method is defined correctly.\n",
    "sp.collect(eq1 - (A1_method.T*x)[0], x)"
   ]
  },
  {
   "cell_type": "markdown",
   "id": "a678a6bd",
   "metadata": {},
   "source": [
    "# Generalize\n",
    "Let's apply the method to a few more signals, we start by defining our $x=[P_x, P_y, P_z, P_{vx}, P_{vy}, P_{vz}]$."
   ]
  },
  {
   "cell_type": "code",
   "execution_count": null,
   "id": "f483f592",
   "metadata": {},
   "outputs": [],
   "source": [
    "x = sp.Matrix([P, Pv])"
   ]
  },
  {
   "cell_type": "code",
   "execution_count": null,
   "id": "35ee1f92",
   "metadata": {},
   "outputs": [],
   "source": [
    "def generate_t_expressions(P, Pv, A, Av):\n",
    "    tx = (P[0] - A[0])/(Av[0] - Pv[0])\n",
    "    ty = (P[1] - A[1])/(Av[1] - Pv[1])\n",
    "    tz = (P[2] - A[2])/(Av[2] - Pv[2])\n",
    "\n",
    "    nx, dx = sp.fraction(tx)\n",
    "    ny, dy = sp.fraction(ty)\n",
    "    nz, dz = sp.fraction(tz)\n",
    "\n",
    "    # set tx == ty, ty == tz and move terms around, trying out the walrus operator as well.\n",
    "    txy = sp.expand(nx*dy - ny*dx)\n",
    "    txz = sp.expand(nx*dz - nz*dx)\n",
    "    tyz = sp.expand(ny*dz - nz*dy)\n",
    "    \n",
    "    return txy, txz, tyz"
   ]
  },
  {
   "cell_type": "code",
   "execution_count": null,
   "id": "0186d280",
   "metadata": {},
   "outputs": [],
   "source": [
    "AP_txy, AP_txz, AP_tyz = generate_t_expressions(P, Pv, A, Av)\n",
    "BP_txy, BP_txz, BP_tyz = generate_t_expressions(P, Pv, B, Bv)\n",
    "CP_txy, CP_txz, CP_tyz = generate_t_expressions(P, Pv, C, Cv)"
   ]
  },
  {
   "cell_type": "code",
   "execution_count": null,
   "id": "7ee80e26",
   "metadata": {},
   "outputs": [],
   "source": [
    "A1 = sp.collect(AP_txy - BP_txy, x)\n",
    "A2 = sp.collect(AP_txy - CP_txy, x)\n",
    "A3 = sp.collect(BP_txy - CP_txy, x)\n",
    "\n",
    "A4 = sp.collect(AP_txz - BP_txz, x)\n",
    "A5 = sp.collect(AP_txz - CP_txz, x)\n",
    "A6 = sp.collect(AP_txz - CP_txz, x)\n",
    "\n",
    "A7 = sp.collect(AP_tyz - BP_tyz, x)\n",
    "A8 = sp.collect(AP_tyz - CP_tyz, x)\n",
    "A9 = sp.collect(BP_tyz - CP_tyz, x)\n",
    "\n",
    "# this output is in the form Ax - b = 0\n",
    "Axb = sp.Matrix([\n",
    "    A1, \n",
    "    # A2,\n",
    "    A3,\n",
    "    A4, \n",
    "    # A5,\n",
    "    A6,\n",
    "    A7, \n",
    "    # A8,\n",
    "    A9\n",
    "])\n",
    "\n",
    "# zero out all in x to get the b terms\n",
    "b = -Axb.subs(dict(zip(x, [0 for _ in range(x.shape[0])])))"
   ]
  },
  {
   "cell_type": "code",
   "execution_count": null,
   "id": "2bc58852",
   "metadata": {},
   "outputs": [],
   "source": [
    "# Move into Ax = b\n",
    "# we can reformulate this as a vector multiplication\n",
    "# Method: Set all A to 0, then iterate through each line and define the A matrix until we reach 0 \n",
    "# on all from the printout.\n",
    "Amat = sp.Matrix([\n",
    "    [Avy-Bvy, -Avx+Bvx, 0, -Ay+By, Ax-Bx, 0],\n",
    "    # [Avy-Cvy, -Avx+Cvx, 0, -Ay+Cy, Ax-Cx, 0],\n",
    "    [Bvy-Cvy, -Bvx+Cvx, 0, -By+Cy, Bx-Cx, 0],\n",
    "    [Avz-Bvz, 0, -Avx+Bvx, -Az+Bz, 0, Ax-Bx],\n",
    "    # [Avz-Cvz, 0, -Avx+Cvx, -Az+Cz, 0, Ax-Cx],\n",
    "    [Avz-Cvz, 0, -Avx+Cvx, -Az+Cz, 0, Ax-Cx],\n",
    "    [0, Avz-Bvz, -Avy+Bvy, 0, -Az+Bz, Ay-By],\n",
    "    # [0, Avz-Cvz, -Avy+Cvy, 0, -Az+Cz, Ay-Cy],\n",
    "    [0, Bvz-Cvz, -Bvy+Cvy, 0, -Bz+Cz, By-Cy],\n",
    "])\n",
    "\n",
    "# This should be 0!\n",
    "# TODO: can I do this programmatically?\n",
    "for i in range(Axb.shape[0]):\n",
    "    if (sp.collect(Axb[i] + b[i] - (Amat*x)[i], x) != 0):\n",
    "        print(i,) # Print which index failed\n",
    "        sp.pprint(sp.collect(Axb[i] + b[i] - (Amat*x)[i],x))\n",
    "    \n",
    "# And there we go, A\n",
    "Amat"
   ]
  },
  {
   "cell_type": "code",
   "execution_count": null,
   "id": "8dd02cc4",
   "metadata": {},
   "outputs": [],
   "source": [
    "b"
   ]
  },
  {
   "cell_type": "code",
   "execution_count": null,
   "id": "9a5de70b",
   "metadata": {},
   "outputs": [],
   "source": [
    "def print_cpp_format(varname, inp):\n",
    "    print(f\"{varname} << \", end=\"\")\n",
    "    print(str(inp)\n",
    "        .replace(\"_{\", \"\")\n",
    "        .replace(\"}\",\"\")\n",
    "        .replace(\"],\",\",\\n\")\n",
    "        .replace(\"]])\", \";\\n\")\n",
    "        .replace(\"Matrix([[\", \"\")\n",
    "        .replace(\"[\", \"    \")       \n",
    ")\n",
    "\n",
    "print_cpp_format(\"A\", Amat)\n",
    "print_cpp_format(\"b\", b)"
   ]
  }
 ],
 "metadata": {
  "kernelspec": {
   "display_name": "Python 3 (ipykernel)",
   "language": "python",
   "name": "python3"
  },
  "language_info": {
   "codemirror_mode": {
    "name": "ipython",
    "version": 3
   },
   "file_extension": ".py",
   "mimetype": "text/x-python",
   "name": "python",
   "nbconvert_exporter": "python",
   "pygments_lexer": "ipython3",
   "version": "3.8.10"
  }
 },
 "nbformat": 4,
 "nbformat_minor": 5
}
